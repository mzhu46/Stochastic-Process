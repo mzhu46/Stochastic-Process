{
 "cells": [
  {
   "cell_type": "code",
   "execution_count": 6,
   "metadata": {},
   "outputs": [],
   "source": [
    "import numpy as np\n",
    "import scipy as scipy\n",
    "from scipy import integrate\n",
    "from scipy import stats"
   ]
  },
  {
   "cell_type": "code",
   "execution_count": 7,
   "metadata": {},
   "outputs": [],
   "source": [
    "xfx = lambda x: x *  scipy.stats.norm.pdf(x, 0 ,1)\n",
    "x1=scipy.integrate.quad(xfx , -np.inf, 0)\n",
    "\n",
    "x2fx = lambda x: x**2 * scipy.stats.norm.pdf(x, 0 ,1)\n",
    "x2=scipy.integrate.quad(x2fx , -np.inf, 0)\n",
    "\n",
    "vfx = lambda x: (x-x1[0])**2 *  scipy.stats.norm.pdf(x, 0 ,1)\n",
    "x3=scipy.integrate.quad(vfx , -np.inf, 0)"
   ]
  },
  {
   "cell_type": "code",
   "execution_count": 8,
   "metadata": {},
   "outputs": [
    {
     "data": {
      "text/plain": [
       "(-0.39894228040143215, 1.133869365961085e-08)"
      ]
     },
     "execution_count": 8,
     "metadata": {},
     "output_type": "execute_result"
    }
   ],
   "source": [
    "x1"
   ]
  },
  {
   "cell_type": "code",
   "execution_count": 9,
   "metadata": {},
   "outputs": [
    {
     "data": {
      "text/plain": [
       "(0.5000000000000004, 8.236245163097308e-09)"
      ]
     },
     "execution_count": 9,
     "metadata": {},
     "output_type": "execute_result"
    }
   ],
   "source": [
    "x2"
   ]
  },
  {
   "cell_type": "code",
   "execution_count": 10,
   "metadata": {},
   "outputs": [
    {
     "data": {
      "text/plain": [
       "0.3408450569081055"
      ]
     },
     "execution_count": 10,
     "metadata": {},
     "output_type": "execute_result"
    }
   ],
   "source": [
    "x2[0]-x1[0]**2"
   ]
  },
  {
   "cell_type": "code",
   "execution_count": 11,
   "metadata": {},
   "outputs": [
    {
     "data": {
      "text/plain": [
       "0.26126758536215766"
      ]
     },
     "execution_count": 11,
     "metadata": {},
     "output_type": "execute_result"
    }
   ],
   "source": [
    "x3[0]"
   ]
  },
  {
   "cell_type": "code",
   "execution_count": 43,
   "metadata": {},
   "outputs": [
    {
     "data": {
      "text/plain": [
       "0.5"
      ]
     },
     "execution_count": 43,
     "metadata": {},
     "output_type": "execute_result"
    }
   ],
   "source": [
    "scipy.stats.norm.cdf(0,0,1)"
   ]
  },
  {
   "cell_type": "code",
   "execution_count": 44,
   "metadata": {},
   "outputs": [],
   "source": [
    "def diff1(upbound):\n",
    "    xfx = lambda x: x *  scipy.stats.norm.pdf(x, 0 ,1)/scipy.stats.norm.cdf(upbound,0,1)\n",
    "    x1=scipy.integrate.quad(xfx , -np.inf, upbound)\n",
    "\n",
    "    x2fx = lambda x: x**2 * scipy.stats.norm.pdf(x, 0 ,1)/scipy.stats.norm.cdf(upbound,0,1)\n",
    "    x2=scipy.integrate.quad(x2fx , -np.inf, upbound)\n",
    "\n",
    "    vfx = lambda x: (x-x1[0])**2 *  scipy.stats.norm.pdf(x, 0 ,1)/scipy.stats.norm.cdf(upbound,0,1)\n",
    "    x3=scipy.integrate.quad(vfx , -np.inf, upbound)\n",
    "\n",
    "\n",
    "    diff = x2[0]-x1[0]**2 - x3[0]\n",
    "    return diff"
   ]
  },
  {
   "cell_type": "code",
   "execution_count": 45,
   "metadata": {},
   "outputs": [
    {
     "data": {
      "image/png": "[encoded data removed]",
      "text/plain": [
       "<Figure size 432x288 with 1 Axes>"
      ]
     },
     "metadata": {
      "needs_background": "light"
     },
     "output_type": "display_data"
    }
   ],
   "source": [
    "a1 = np.linspace(-2,3 , 100)\n",
    "b1 = []\n",
    "for i in a1:\n",
    "    b1.append(diff1(i))\n",
    "b1=np.array(b1)\n",
    "import matplotlib.pyplot as plt\n",
    "plt.plot(a1 , b1)\n",
    "plt.show()"
   ]
  },
  {
   "cell_type": "code",
   "execution_count": 39,
   "metadata": {},
   "outputs": [
    {
     "data": {
      "text/plain": [
       "(-0.7978845608028651, 1.169763314247044e-08)"
      ]
     },
     "execution_count": 39,
     "metadata": {},
     "output_type": "execute_result"
    }
   ],
   "source": [
    "xfx = lambda x:   scipy.stats.norm.pdf(x, 0 ,1)*2*x\n",
    "x1=scipy.integrate.quad(xfx , -np.inf, 0)\n",
    "x1"
   ]
  },
  {
   "cell_type": "code",
   "execution_count": null,
   "metadata": {},
   "outputs": [],
   "source": []
  }
 ],
 "metadata": {
  "kernelspec": {
   "display_name": "Python 3",
   "language": "python",
   "name": "python3"
  },
  "language_info": {
   "codemirror_mode": {
    "name": "ipython",
    "version": 3
   },
   "file_extension": ".py",
   "mimetype": "text/x-python",
   "name": "python",
   "nbconvert_exporter": "python",
   "pygments_lexer": "ipython3",
   "version": "3.7.4"
  }
 },
 "nbformat": 4,
 "nbformat_minor": 4
}
